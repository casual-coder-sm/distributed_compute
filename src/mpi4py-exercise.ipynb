{
 "cells": [
  {
   "cell_type": "markdown",
   "metadata": {
    "colab_type": "text",
    "id": "view-in-github"
   },
   "source": [
    "<a href=\"https://colab.research.google.com/github/casual-coder-sm/distributed_compute/blob/main/src/mpi4py-exercise.ipynb\" target=\"_parent\"><img src=\"https://colab.research.google.com/assets/colab-badge.svg\" alt=\"Open In Colab\"/></a>\n",
    "\n",
    "<a href=\"https://studiolab.sagemaker.aws/import/github/org/repo/blob/master/path/to/notebook.ipynb\">\n",
    "  <img src=\"https://studiolab.sagemaker.aws/studiolab.svg\" alt=\"Open In SageMaker Studio Lab\"/>\n",
    "</a>"
   ]
  },
  {
   "cell_type": "code",
   "execution_count": 1,
   "metadata": {
    "colab": {
     "base_uri": "https://localhost:8080/"
    },
    "id": "8eYFN1j_MK6z",
    "outputId": "7335a986-b75c-4c6a-c632-6c6690d47252"
   },
   "outputs": [
    {
     "name": "stdout",
     "output_type": "stream",
     "text": [
      "Looking in indexes: https://pypi.org/simple, https://us-python.pkg.dev/colab-wheels/public/simple/\n",
      "Collecting mpi4py\n",
      "  Downloading mpi4py-3.1.3.tar.gz (2.5 MB)\n",
      "\u001b[K     |████████████████████████████████| 2.5 MB 4.1 MB/s \n",
      "\u001b[?25h  Installing build dependencies ... \u001b[?25l\u001b[?25hdone\n",
      "  Getting requirements to build wheel ... \u001b[?25l\u001b[?25hdone\n",
      "    Preparing wheel metadata ... \u001b[?25l\u001b[?25hdone\n",
      "Building wheels for collected packages: mpi4py\n",
      "  Building wheel for mpi4py (PEP 517) ... \u001b[?25l\u001b[?25hdone\n",
      "  Created wheel for mpi4py: filename=mpi4py-3.1.3-cp37-cp37m-linux_x86_64.whl size=2185255 sha256=afb583358b3990db3df15570ce749f5e9924d2147b65cce17c40decfd9942201\n",
      "  Stored in directory: /root/.cache/pip/wheels/7a/07/14/6a0c63fa2c6e473c6edc40985b7d89f05c61ff25ee7f0ad9ac\n",
      "Successfully built mpi4py\n",
      "Installing collected packages: mpi4py\n",
      "Successfully installed mpi4py-3.1.3\n"
     ]
    }
   ],
   "source": [
    "!pip install mpi4py"
   ]
  },
  {
   "cell_type": "code",
   "execution_count": 2,
   "metadata": {
    "colab": {
     "base_uri": "https://localhost:8080/",
     "height": 243
    },
    "id": "wk0NTTtYMyiX",
    "outputId": "d300daac-56de-46f9-8d2e-cddc51d787e0"
   },
   "outputs": [
    {
     "data": {
      "application/json": {
       "cell": {
        "!": "OSMagics",
        "HTML": "Other",
        "SVG": "Other",
        "bash": "Other",
        "bigquery": "Other",
        "capture": "ExecutionMagics",
        "debug": "ExecutionMagics",
        "file": "Other",
        "html": "DisplayMagics",
        "javascript": "DisplayMagics",
        "js": "DisplayMagics",
        "latex": "DisplayMagics",
        "markdown": "DisplayMagics",
        "perl": "Other",
        "prun": "ExecutionMagics",
        "pypy": "Other",
        "python": "Other",
        "python2": "Other",
        "python3": "Other",
        "ruby": "Other",
        "script": "ScriptMagics",
        "sh": "Other",
        "shell": "Other",
        "svg": "DisplayMagics",
        "sx": "OSMagics",
        "system": "OSMagics",
        "time": "ExecutionMagics",
        "timeit": "ExecutionMagics",
        "writefile": "OSMagics"
       },
       "line": {
        "alias": "OSMagics",
        "alias_magic": "BasicMagics",
        "autoawait": "AsyncMagics",
        "autocall": "AutoMagics",
        "automagic": "AutoMagics",
        "autosave": "KernelMagics",
        "bookmark": "OSMagics",
        "cat": "Other",
        "cd": "OSMagics",
        "clear": "KernelMagics",
        "colors": "BasicMagics",
        "conda": "PackagingMagics",
        "config": "ConfigMagics",
        "connect_info": "KernelMagics",
        "cp": "Other",
        "debug": "ExecutionMagics",
        "dhist": "OSMagics",
        "dirs": "OSMagics",
        "doctest_mode": "BasicMagics",
        "ed": "Other",
        "edit": "KernelMagics",
        "env": "OSMagics",
        "gui": "BasicMagics",
        "hist": "Other",
        "history": "HistoryMagics",
        "killbgscripts": "ScriptMagics",
        "ldir": "Other",
        "less": "KernelMagics",
        "lf": "Other",
        "lk": "Other",
        "ll": "Other",
        "load": "CodeMagics",
        "load_ext": "ExtensionMagics",
        "loadpy": "CodeMagics",
        "logoff": "LoggingMagics",
        "logon": "LoggingMagics",
        "logstart": "LoggingMagics",
        "logstate": "LoggingMagics",
        "logstop": "LoggingMagics",
        "ls": "Other",
        "lsmagic": "BasicMagics",
        "lx": "Other",
        "macro": "ExecutionMagics",
        "magic": "BasicMagics",
        "man": "KernelMagics",
        "matplotlib": "PylabMagics",
        "mkdir": "Other",
        "more": "KernelMagics",
        "mv": "Other",
        "notebook": "BasicMagics",
        "page": "BasicMagics",
        "pastebin": "CodeMagics",
        "pdb": "ExecutionMagics",
        "pdef": "NamespaceMagics",
        "pdoc": "NamespaceMagics",
        "pfile": "NamespaceMagics",
        "pinfo": "NamespaceMagics",
        "pinfo2": "NamespaceMagics",
        "pip": "Other",
        "popd": "OSMagics",
        "pprint": "BasicMagics",
        "precision": "BasicMagics",
        "prun": "ExecutionMagics",
        "psearch": "NamespaceMagics",
        "psource": "NamespaceMagics",
        "pushd": "OSMagics",
        "pwd": "OSMagics",
        "pycat": "OSMagics",
        "pylab": "PylabMagics",
        "qtconsole": "KernelMagics",
        "quickref": "BasicMagics",
        "recall": "HistoryMagics",
        "rehashx": "OSMagics",
        "reload_ext": "ExtensionMagics",
        "rep": "Other",
        "rerun": "HistoryMagics",
        "reset": "NamespaceMagics",
        "reset_selective": "NamespaceMagics",
        "rm": "Other",
        "rmdir": "Other",
        "run": "ExecutionMagics",
        "save": "CodeMagics",
        "sc": "OSMagics",
        "set_env": "OSMagics",
        "shell": "Other",
        "store": "StoreMagics",
        "sx": "OSMagics",
        "system": "OSMagics",
        "tb": "ExecutionMagics",
        "tensorflow_version": "Other",
        "time": "ExecutionMagics",
        "timeit": "ExecutionMagics",
        "unalias": "OSMagics",
        "unload_ext": "ExtensionMagics",
        "who": "NamespaceMagics",
        "who_ls": "NamespaceMagics",
        "whos": "NamespaceMagics",
        "xdel": "NamespaceMagics",
        "xmode": "BasicMagics"
       }
      },
      "text/plain": [
       "Available line magics:\n",
       "%alias  %alias_magic  %autoawait  %autocall  %automagic  %autosave  %bookmark  %cat  %cd  %clear  %colors  %conda  %config  %connect_info  %cp  %debug  %dhist  %dirs  %doctest_mode  %ed  %edit  %env  %gui  %hist  %history  %killbgscripts  %ldir  %less  %lf  %lk  %ll  %load  %load_ext  %loadpy  %logoff  %logon  %logstart  %logstate  %logstop  %ls  %lsmagic  %lx  %macro  %magic  %man  %matplotlib  %mkdir  %more  %mv  %notebook  %page  %pastebin  %pdb  %pdef  %pdoc  %pfile  %pinfo  %pinfo2  %pip  %popd  %pprint  %precision  %prun  %psearch  %psource  %pushd  %pwd  %pycat  %pylab  %qtconsole  %quickref  %recall  %rehashx  %reload_ext  %rep  %rerun  %reset  %reset_selective  %rm  %rmdir  %run  %save  %sc  %set_env  %shell  %store  %sx  %system  %tb  %tensorflow_version  %time  %timeit  %unalias  %unload_ext  %who  %who_ls  %whos  %xdel  %xmode\n",
       "\n",
       "Available cell magics:\n",
       "%%!  %%HTML  %%SVG  %%bash  %%bigquery  %%capture  %%debug  %%file  %%html  %%javascript  %%js  %%latex  %%markdown  %%perl  %%prun  %%pypy  %%python  %%python2  %%python3  %%ruby  %%script  %%sh  %%shell  %%svg  %%sx  %%system  %%time  %%timeit  %%writefile\n",
       "\n",
       "Automagic is ON, % prefix IS NOT needed for line magics."
      ]
     },
     "execution_count": 2,
     "metadata": {},
     "output_type": "execute_result"
    }
   ],
   "source": [
    "%lsmagic"
   ]
  },
  {
   "cell_type": "code",
   "execution_count": 3,
   "metadata": {
    "colab": {
     "base_uri": "https://localhost:8080/"
    },
    "id": "a20EVBpKMgny",
    "outputId": "e446c03c-902b-4ca9-80d8-1738f0159ec6"
   },
   "outputs": [
    {
     "name": "stdout",
     "output_type": "stream",
     "text": [
      "Writing mpi1.py\n"
     ]
    }
   ],
   "source": [
    " %%writefile mpi1.py\n",
    "from mpi4py import MPI\n",
    "\n",
    "comm = MPI.COMM_WORLD\n",
    "size = comm.Get_size()\n",
    "rank = comm.Get_rank()\n",
    "print('size=%d, rank=%d' % (size, rank))"
   ]
  },
  {
   "cell_type": "markdown",
   "metadata": {
    "id": "Jy1FR5d9OeDc"
   },
   "source": [
    "create user \n",
    "* adduser <username>\n",
    "* setpassword, provide details...\n",
    "* usermod -aG sudo <username>\n",
    "Reference: https://stackoverflow.com/questions/57168450/how-to-create-non-root-account-on-colab\n",
    "\n"
   ]
  },
  {
   "cell_type": "markdown",
   "metadata": {
    "id": "fmSceBqKMyAL"
   },
   "source": [
    "mpiexec -n 4 python mpi1.py"
   ]
  },
  {
   "cell_type": "code",
   "execution_count": 5,
   "metadata": {
    "colab": {
     "base_uri": "https://localhost:8080/"
    },
    "id": "Y84a2f8IPZ1d",
    "outputId": "f2f8d6d4-a157-47db-84be-273ae1acd703"
   },
   "outputs": [
    {
     "name": "stdout",
     "output_type": "stream",
     "text": [
      "Writing mpi2.py\n"
     ]
    }
   ],
   "source": [
    "%%writefile mpi2.py\n",
    "from mpi4py import MPI\n",
    "rank = MPI.COMM_WORLD.Get_rank()\n",
    "\n",
    "a = 6.0\n",
    "b = 3.0\n",
    "if rank == 0:\n",
    "        print(a + b)\n",
    "if rank == 1:\n",
    "        print(a * b)\n",
    "if rank == 2:\n",
    "        print(max(a,b))"
   ]
  },
  {
   "cell_type": "markdown",
   "metadata": {
    "id": "e74azwNqPe3u"
   },
   "source": [
    "mpiexec -n 3 python mpi2.py"
   ]
  },
  {
   "cell_type": "code",
   "execution_count": 6,
   "metadata": {
    "colab": {
     "base_uri": "https://localhost:8080/"
    },
    "id": "r9Le2WTuPx9V",
    "outputId": "f79dcc4f-14a9-4151-ad09-6965a4ea77b7"
   },
   "outputs": [
    {
     "name": "stdout",
     "output_type": "stream",
     "text": [
      "Writing mpi3.py\n"
     ]
    }
   ],
   "source": [
    "%%writefile mpi3.py\n",
    "import numpy\n",
    "from mpi4py import MPI\n",
    "comm = MPI.COMM_WORLD\n",
    "rank = comm.Get_rank()\n",
    "\n",
    "randNum = numpy.zeros(1)\n",
    "\n",
    "if rank == 1:\n",
    "        randNum = numpy.random.random_sample(1)\n",
    "        print(\"Process\", rank, \"drew the number\", randNum[0])\n",
    "        comm.Send(randNum, dest=0)\n",
    "\n",
    "if rank == 0:\n",
    "        print(\"Process\", rank, \"before receiving has the number\", randNum[0])\n",
    "        comm.Recv(randNum, source=1)\n",
    "        print(\"Process\", rank, \"received the number\", randNum[0])"
   ]
  },
  {
   "cell_type": "markdown",
   "metadata": {
    "id": "1Ax30jU_P24N"
   },
   "source": [
    "mpiexec -n 2 python mpi3.py"
   ]
  },
  {
   "cell_type": "code",
   "execution_count": 7,
   "metadata": {
    "colab": {
     "base_uri": "https://localhost:8080/"
    },
    "id": "_ljt1YLlQNv5",
    "outputId": "d1289bbf-5491-44b3-f87d-0039f1cb43e0"
   },
   "outputs": [
    {
     "name": "stdout",
     "output_type": "stream",
     "text": [
      "Writing mpi4.py\n"
     ]
    }
   ],
   "source": [
    "%%writefile mpi4.py\n",
    "import numpy\n",
    "from mpi4py import MPI\n",
    "comm = MPI.COMM_WORLD\n",
    "rank = comm.Get_rank()\n",
    "\n",
    "randNum = numpy.zeros(1)\n",
    "\n",
    "if rank == 1:\n",
    "        randNum = numpy.random.random_sample(1)\n",
    "        print(\"Process\", rank, \"drew the number\", randNum[0])\n",
    "        comm.Send(randNum, dest=0)\n",
    "        comm.Recv(randNum, source=0)\n",
    "        print(\"Process\", rank, \"received the number\", randNum[0])\n",
    "        \n",
    "if rank == 0:\n",
    "        print(\"Process\", rank, \"before receiving has the number\", randNum[0])\n",
    "        comm.Recv(randNum, source=1)\n",
    "        print(\"Process\", rank, \"received the number\", randNum[0])\n",
    "        randNum *= 2\n",
    "        comm.Send(randNum, dest=1)"
   ]
  },
  {
   "cell_type": "markdown",
   "metadata": {
    "id": "21-jCz70QRJ1"
   },
   "source": [
    "mpiexec -n 2 python mpi4.py"
   ]
  }
 ],
 "metadata": {
  "colab": {
   "authorship_tag": "ABX9TyP8t3+T4Q3YnoTPbLzCKf1G",
   "include_colab_link": true,
   "provenance": []
  },
  "kernelspec": {
   "display_name": "cds:Python",
   "language": "python",
   "name": "conda-env-cds-py"
  },
  "language_info": {
   "codemirror_mode": {
    "name": "ipython",
    "version": 3
   },
   "file_extension": ".py",
   "mimetype": "text/x-python",
   "name": "python",
   "nbconvert_exporter": "python",
   "pygments_lexer": "ipython3",
   "version": "3.9.13"
  }
 },
 "nbformat": 4,
 "nbformat_minor": 4
}
